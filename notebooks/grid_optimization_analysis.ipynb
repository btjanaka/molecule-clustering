{
 "cells": [
  {
   "cell_type": "markdown",
   "metadata": {},
   "source": [
    "# Grid Optimization Analysis\n",
    "Create some visualizations of the Grid Optimization dataset to get a better idea of it."
   ]
  },
  {
   "cell_type": "code",
   "execution_count": 27,
   "metadata": {},
   "outputs": [],
   "source": [
    "import numpy as np\n",
    "import qcportal as ptl\n",
    "from matplotlib import pyplot as plt\n",
    "from sklearn import decomposition\n"
   ]
  },
  {
   "cell_type": "markdown",
   "metadata": {},
   "source": [
    "## Loading the Data"
   ]
  },
  {
   "cell_type": "code",
   "execution_count": 2,
   "metadata": {},
   "outputs": [],
   "source": [
    "CLIENT = ptl.FractalClient()\n",
    "DATASET = CLIENT.get_collection('GridOptimizationDataset',\n",
    "                                'OpenFF Trivalent Nitrogen Set 1')\n",
    "MOLECULE_IDS = [\n",
    "    DATASET.get_entry(index).initial_molecule for index in DATASET.df.index\n",
    "]\n",
    "MOLECULES = CLIENT.query_molecules(id=MOLECULE_IDS)\n",
    "METADATA_ENTRIES = [\n",
    "    DATASET.get_entry(index).object_map['default'] for index in DATASET.df.index\n",
    "]\n",
    "# get all grid optimization calculations from the entire dataset\n",
    "ENTRIES = CLIENT.query_procedures(METADATA_ENTRIES)\n"
   ]
  },
  {
   "cell_type": "code",
   "execution_count": 3,
   "metadata": {},
   "outputs": [
    {
     "name": "stdout",
     "output_type": "stream",
     "text": [
      "There are 311 molecules.\n"
     ]
    }
   ],
   "source": [
    "print(f\"There are {len(MOLECULES)} molecules.\")\n"
   ]
  },
  {
   "cell_type": "markdown",
   "metadata": {},
   "source": [
    "## Sample Molecule\n",
    "Demonstrating procedures for accessing data from a single molecule."
   ]
  },
  {
   "cell_type": "code",
   "execution_count": 4,
   "metadata": {},
   "outputs": [
    {
     "name": "stdout",
     "output_type": "stream",
     "text": [
      "{'type': <ScanTypeEnum.dihedral: 'dihedral'>, 'indices': [15, 27, 0, 14], 'steps': [-40.0, -36.0, -32.0, -28.0, -24.0, -20.0, -16.0, -12.0, -8.0, -4.0, 0, 4.0, 8.0, 12.0, 16.0, 20.0, 24.0, 28.0, 32.0, 36.0, 40.0], 'step_type': <StepTypeEnum.absolute: 'absolute'>}\n"
     ]
    }
   ],
   "source": [
    "#try looking at a single entry (one full grid optimization calculation which should include restrained 21 optimizations)\n",
    "print(ENTRIES[0].keywords.scans[0].__dict__)"
   ]
  },
  {
   "cell_type": "code",
   "execution_count": 15,
   "metadata": {},
   "outputs": [
    {
     "data": {
      "text/plain": [
       "{(10,): -1911.9001278126004,\n",
       " (9,): -1911.8998668413578,\n",
       " (11,): -1911.900072169928,\n",
       " (12,): -1911.8996861616613,\n",
       " (8,): -1911.8992847580846,\n",
       " (7,): -1911.8983678870145,\n",
       " (13,): -1911.8989534927564,\n",
       " (6,): -1911.897087485602,\n",
       " (14,): -1911.8978416425014,\n",
       " (15,): -1911.8963109706997,\n",
       " (5,): -1911.895421144429,\n",
       " (16,): -1911.8943138832476,\n",
       " (4,): -1911.8933050495111,\n",
       " (17,): -1911.8917783017384,\n",
       " (3,): -1911.8906874902902,\n",
       " (2,): -1911.887483367938,\n",
       " (18,): -1911.8886343140744,\n",
       " (1,): -1911.883631816466,\n",
       " (19,): -1911.8848299692154,\n",
       " (20,): -1911.8803028912332,\n",
       " (0,): -1911.8790917811912}"
      ]
     },
     "execution_count": 15,
     "metadata": {},
     "output_type": "execute_result"
    }
   ],
   "source": [
    "#get the final energies for each frame in a single grid optimization\n",
    "ENTRIES[0].get_final_energies()"
   ]
  },
  {
   "cell_type": "code",
   "execution_count": 6,
   "metadata": {},
   "outputs": [
    {
     "name": "stdout",
     "output_type": "stream",
     "text": [
      "{(0,): <Molecule(name='BC14F5H5NS2' formula='BC14F5H5NS2' hash='ef76b9c')>, (1,): <Molecule(name='BC14F5H5NS2' formula='BC14F5H5NS2' hash='855e1d2')>, (10,): <Molecule(name='BC14F5H5NS2' formula='BC14F5H5NS2' hash='b913b20')>, (11,): <Molecule(name='BC14F5H5NS2' formula='BC14F5H5NS2' hash='b49e98a')>, (12,): <Molecule(name='BC14F5H5NS2' formula='BC14F5H5NS2' hash='f7485a2')>, (13,): <Molecule(name='BC14F5H5NS2' formula='BC14F5H5NS2' hash='2921064')>, (14,): <Molecule(name='BC14F5H5NS2' formula='BC14F5H5NS2' hash='5fd4f58')>, (15,): <Molecule(name='BC14F5H5NS2' formula='BC14F5H5NS2' hash='3444934')>, (16,): <Molecule(name='BC14F5H5NS2' formula='BC14F5H5NS2' hash='2584cd5')>, (17,): <Molecule(name='BC14F5H5NS2' formula='BC14F5H5NS2' hash='6131ad6')>, (18,): <Molecule(name='BC14F5H5NS2' formula='BC14F5H5NS2' hash='d012dce')>, (19,): <Molecule(name='BC14F5H5NS2' formula='BC14F5H5NS2' hash='7cf6e2e')>, (2,): <Molecule(name='BC14F5H5NS2' formula='BC14F5H5NS2' hash='1b30b25')>, (20,): <Molecule(name='BC14F5H5NS2' formula='BC14F5H5NS2' hash='6edbcb8')>, (3,): <Molecule(name='BC14F5H5NS2' formula='BC14F5H5NS2' hash='4fcec53')>, (4,): <Molecule(name='BC14F5H5NS2' formula='BC14F5H5NS2' hash='916bcaa')>, (5,): <Molecule(name='BC14F5H5NS2' formula='BC14F5H5NS2' hash='f4fd3fd')>, (6,): <Molecule(name='BC14F5H5NS2' formula='BC14F5H5NS2' hash='dbb2d86')>, (7,): <Molecule(name='BC14F5H5NS2' formula='BC14F5H5NS2' hash='bc1d56e')>, (8,): <Molecule(name='BC14F5H5NS2' formula='BC14F5H5NS2' hash='7add415')>, (9,): <Molecule(name='BC14F5H5NS2' formula='BC14F5H5NS2' hash='25050cc')>}\n"
     ]
    }
   ],
   "source": [
    "# These show the job ids for each optimization in the original grid optimization entry.\n",
    "# We can use these optimization ids to access the final geometries.\n",
    "print(ENTRIES[0].get_final_molecules())"
   ]
  },
  {
   "cell_type": "code",
   "execution_count": 7,
   "metadata": {},
   "outputs": [
    {
     "name": "stdout",
     "output_type": "stream",
     "text": [
      "    Geometry (in Angstrom), charge = 0.0, multiplicity = 1:\n",
      "\n",
      "       Center              X                  Y                   Z       \n",
      "    ------------   -----------------  -----------------  -----------------\n",
      "    B                 1.116566429148    -1.449331842082     0.038857279197\n",
      "    C                -2.022805181162     0.145807696904    -1.350758229729\n",
      "    C                -0.662239978494     2.416548306132     0.529152609300\n",
      "    C                -2.311335371664    -1.047432431416    -1.965399785046\n",
      "    C                 0.181003010072     3.106690718792     1.349755904376\n",
      "    C                 1.752095795159    -2.890435479176     0.187768419371\n",
      "    C                -0.172340218532    -1.165544833932    -0.694166909739\n",
      "    C                -0.795768888184     0.087166765903    -0.618253279710\n",
      "    C                -0.172611040809     1.107782559598     0.186509484362\n",
      "    C                 1.033497899145    -3.960537838709     0.729961765046\n",
      "    C                 3.058525675706    -3.176637832274    -0.221738075828\n",
      "    C                 1.564651208298    -5.242393447569     0.858575149156\n",
      "    C                 3.622633920707    -4.446538480488    -0.115910102579\n",
      "    C                 2.868830377407    -5.485153839634     0.429494339916\n",
      "    C                 1.050299467742     0.837728728535     0.785101589457\n",
      "    N                 1.856231015850    -0.322854708353     0.586353983525\n",
      "    F                -0.223335227788    -3.764619891773     1.179460244504\n",
      "    F                 3.819997497247    -2.206426765805    -0.766604675031\n",
      "    F                 0.842217437576    -6.237675356252     1.395607567159\n",
      "    F                 4.875944638063    -4.681159249217    -0.534203383959\n",
      "    F                 3.397347176540    -6.709713937144     0.544722352830\n",
      "    S                -1.116096737402    -2.261010866223    -1.666694450095\n",
      "    S                 1.624864571688     2.198237249508     1.720563238800\n",
      "    H                -2.658684667683     1.021644553903    -1.422978072883\n",
      "    H                -1.613064406943     2.813567661853     0.189870861419\n",
      "    H                -3.171279178459    -1.275290449791    -2.583829383198\n",
      "    H                 0.046261175055     4.090285861117     1.780487505855\n",
      "    H                 2.253907874249    -0.441357631188     1.510610570295\n",
      "\n"
     ]
    }
   ],
   "source": [
    "# This will print the final geometry for the first optimization.\n",
    "optimization_to_molecule = ENTRIES[0].get_final_molecules()\n",
    "print(optimization_to_molecule[(0,)])\n"
   ]
  },
  {
   "cell_type": "code",
   "execution_count": 8,
   "metadata": {},
   "outputs": [
    {
     "name": "stdout",
     "output_type": "stream",
     "text": [
      "(array([ 0,  0,  0,  1,  1,  1,  2,  2,  2,  3,  3,  3,  4,  4,  4,  5,  5,\n",
      "        5,  6,  6,  6,  7,  7,  7,  8,  8,  8,  9,  9,  9, 10, 10, 10, 11,\n",
      "       11, 11, 12, 12, 12, 13, 13, 13, 14, 14, 14, 15, 15, 15, 16, 17, 18,\n",
      "       19, 20, 21, 21, 22, 22, 23, 24, 25, 26, 27]), array([ 5,  6, 15,  3,  7, 23,  4,  8, 24,  1, 21, 25,  2, 22, 26,  0,  9,\n",
      "       10,  0,  7, 21,  1,  6,  8,  2,  7, 14,  5, 11, 16,  5, 12, 17,  9,\n",
      "       13, 18, 10, 13, 19, 11, 12, 20,  8, 15, 22,  0, 14, 27,  9, 10, 11,\n",
      "       12, 13,  3,  6,  4, 14,  1,  2,  3,  4, 15]))\n",
      "t [0.9580679020004703 1.192733564643621  1.343158427124923\n",
      " 1.752249415091952  1.3057978767307623 0.8511105000406407\n",
      " 1.8171704354886504 1.2643454863838548 0.8508007032118409\n",
      " 1.752249415091952  1.399222509943768  0.8805596283423672\n",
      " 1.8171704354886504 1.3252510216515658 0.880793512697218\n",
      " 0.9580679020004703 1.395723495247448  1.3931880219978017\n",
      " 1.192733564643621  1.4306826175493745 1.2813428506561515\n",
      " 1.3057978767307623 1.4306826175493745 1.1704417400589566\n",
      " 1.2643454863838548 1.1704417400589566 1.4835170392452175\n",
      " 1.395723495247448  1.3922426849191476 1.3657433745785137\n",
      " 1.3931880219978017 1.392954922671771  1.3707411232783224\n",
      " 1.3922426849191476 1.3842042455641506 1.3969537051769105\n",
      " 1.392954922671771  1.3832345837247022 1.3968450790931304\n",
      " 1.3842042455641506 1.3832345837247022 1.4060709889667133\n",
      " 1.4835170392452175 1.2933223623458894 1.319781845968923\n",
      " 1.343158427124923  1.2933223623458894 0.8006191109308268\n",
      " 1.3657433745785137 1.3707411232783224 1.3969537051769105\n",
      " 1.3968450790931304 1.4060709889667133 1.399222509943768\n",
      " 1.2813428506561515 1.3252510216515658 1.319781845968923\n",
      " 0.8511105000406407 0.8508007032118409 0.8805596283423672\n",
      " 0.880793512697218  0.8006191109308268]\n"
     ]
    }
   ],
   "source": [
    "# Accessing Wiberg bond order.\n",
    "wiberg = ENTRIES[0].get_final_results()[(\n",
    "    0,)].extras[\"qcvars\"][\"WIBERG_LOWDIN_INDICES\"]\n",
    "num_atoms = len(optimization_to_molecule[(0,)].geometry)\n",
    "wibergarray = np.array(wiberg).reshape(num_atoms, num_atoms)\n",
    "\n",
    "# Gives two arrays with the indices of the atoms that correspond to the WBO.\n",
    "print(np.where(wibergarray > 0.5))\n",
    "\n",
    "# Gives the corresponding WBO.\n",
    "print('t', wibergarray[np.where(wibergarray > 0.5)])\n"
   ]
  },
  {
   "cell_type": "markdown",
   "metadata": {},
   "source": [
    "## Visualization\n",
    "\n",
    "Get a better idea of what the data looks like using PCA."
   ]
  },
  {
   "cell_type": "code",
   "execution_count": 9,
   "metadata": {},
   "outputs": [
    {
     "data": {
      "text/plain": [
       "311"
      ]
     },
     "execution_count": 9,
     "metadata": {},
     "output_type": "execute_result"
    }
   ],
   "source": [
    "len(ENTRIES)"
   ]
  },
  {
   "cell_type": "code",
   "execution_count": 35,
   "metadata": {},
   "outputs": [
    {
     "name": "stdout",
     "output_type": "stream",
     "text": [
      "Skipping molecule 66 because it only has 0 frames\n",
      "Skipping molecule 83 because it only has 0 frames\n",
      "Skipping molecule 84 because it only has 0 frames\n",
      "Skipping molecule 85 because it only has 0 frames\n",
      "Skipping molecule 138 because it only has 0 frames\n",
      "Skipping molecule 141 because it only has 0 frames\n",
      "Skipping molecule 157 because it only has 0 frames\n",
      "Skipping molecule 160 because it only has 0 frames\n",
      "Skipping molecule 175 because it only has 0 frames\n",
      "Skipping molecule 193 because it only has 0 frames\n",
      "Skipping molecule 204 because it only has 0 frames\n",
      "Skipping molecule 218 because it only has 0 frames\n",
      "Skipping molecule 236 because it only has 0 frames\n",
      "Skipping molecule 242 because it only has 0 frames\n",
      "Skipping molecule 252 because it only has 0 frames\n",
      "Skipping molecule 277 because it only has 0 frames\n",
      "Skipping molecule 279 because it only has 0 frames\n",
      "Skipping molecule 286 because it only has 0 frames\n",
      "Skipping molecule 298 because it only has 0 frames\n"
     ]
    }
   ],
   "source": [
    "# Create vectors of the energies\n",
    "NUM_FRAMES = 21\n",
    "ENERGIES = np.zeros(shape=(len(ENTRIES), NUM_FRAMES))\n",
    "for idx, entry in enumerate(ENTRIES):\n",
    "    final_energies = entry.get_final_energies()\n",
    "    if len(final_energies) != NUM_FRAMES:\n",
    "        print(f\"Skipping molecule {idx} because it only has {len(final_energies)} frames\")\n",
    "        continue\n",
    "    for frame_idx in range(NUM_FRAMES):\n",
    "        ENERGIES[idx][frame_idx] = final_energies[(frame_idx,)]\n",
    "    # Normalize the energies by subtracting the minimum energy\n",
    "    min_energy = np.min(ENERGIES[idx])\n",
    "    ENERGIES[idx] -= min_energy\n",
    "\n",
    "# Apply PCA to reduce to 2d for plotting\n",
    "pca_2d = decomposition.PCA(n_components=2)\n",
    "ENERGIES_2D = pca_2d.fit_transform(ENERGIES)"
   ]
  },
  {
   "cell_type": "code",
   "execution_count": 36,
   "metadata": {},
   "outputs": [
    {
     "data": {
      "image/png": "[encoded data removed]",
      "text/plain": [
       "<Figure size 432x288 with 1 Axes>"
      ]
     },
     "metadata": {
      "needs_background": "light"
     },
     "output_type": "display_data"
    }
   ],
   "source": [
    "plt.scatter(ENERGIES_2D[:,0], ENERGIES_2D[:,1]);"
   ]
  }
 ],
 "metadata": {
  "kernelspec": {
   "display_name": "Python 3",
   "language": "python",
   "name": "python3"
  },
  "language_info": {
   "codemirror_mode": {
    "name": "ipython",
    "version": 3
   },
   "file_extension": ".py",
   "mimetype": "text/x-python",
   "name": "python",
   "nbconvert_exporter": "python",
   "pygments_lexer": "ipython3",
   "version": "3.7.3"
  }
 },
 "nbformat": 4,
 "nbformat_minor": 4
}
