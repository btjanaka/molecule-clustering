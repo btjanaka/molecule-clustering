{
 "cells": [
  {
   "cell_type": "markdown",
   "metadata": {},
   "source": [
    "# Grid Optimization Analysis\n",
    "Create some visualizations of the Grid Optimization dataset to get a better idea of it."
   ]
  },
  {
   "cell_type": "code",
   "execution_count": 1,
   "metadata": {},
   "outputs": [],
   "source": [
    "import numpy as np\n",
    "import qcportal as ptl\n",
    "from matplotlib import pyplot as plt\n",
    "from sklearn import decomposition\n"
   ]
  },
  {
   "cell_type": "markdown",
   "metadata": {},
   "source": [
    "## Loading the Data"
   ]
  },
  {
   "cell_type": "code",
   "execution_count": 15,
   "metadata": {},
   "outputs": [
    {
     "name": "stdout",
     "output_type": "stream",
     "text": [
      "Molecule  66 (C22Cl2H24NO6PS) has 0 frames\n",
      "Molecule  83 (C16H37NO2P2S2) has 0 frames\n",
      "Molecule  84 (C22H24NO2PS) has 0 frames\n",
      "Molecule  85 (C20H21N3O4S) has 0 frames\n",
      "Molecule 138 (C4H6N2O) has 0 frames\n",
      "Molecule 141 (C19H13NO3S) has 0 frames\n",
      "Molecule 157 (C31H45N3O8S3) has 0 frames\n",
      "Molecule 160 (C21H22N2O6S2) has 0 frames\n",
      "Molecule 175 (C28H22NO2P) has 0 frames\n",
      "Molecule 193 (C22H24N6O6S2) has 0 frames\n",
      "Molecule 204 (C12H21N2P) has 0 frames\n",
      "Molecule 218 (BrC9H8N3) has 0 frames\n",
      "Molecule 236 (C6H5N3) has 0 frames\n",
      "Molecule 242 (C13H18N3O2) has 0 frames\n",
      "Molecule 252 (C24H20NOP) has 0 frames\n",
      "Molecule 277 (C12H11N2O3S) has 0 frames\n",
      "Molecule 279 (C10H8N2O2) has 0 frames\n",
      "Molecule 286 (C7H4INO3S) has 0 frames\n",
      "Molecule 298 (C22H30N3P) has 0 frames\n"
     ]
    }
   ],
   "source": [
    "CLIENT = ptl.FractalClient()\n",
    "DATASET = CLIENT.get_collection('GridOptimizationDataset',\n",
    "                                'OpenFF Trivalent Nitrogen Set 1')\n",
    "MOLECULE_IDS = [\n",
    "    DATASET.get_entry(index).initial_molecule for index in DATASET.df.index\n",
    "]\n",
    "MOLECULES = CLIENT.query_molecules(id=MOLECULE_IDS)\n",
    "METADATA_ENTRIES = [\n",
    "    DATASET.get_entry(index).object_map['default'] for index in DATASET.df.index\n",
    "]\n",
    "# get all grid optimization calculations from the entire dataset\n",
    "ENTRIES = CLIENT.query_procedures(METADATA_ENTRIES)\n",
    "\n",
    "# Remove molecules that have no optimizations\n",
    "GOOD_MOLECULES = []\n",
    "GOOD_ENTRIES = []\n",
    "for idx, entry in enumerate(ENTRIES):\n",
    "    final_energies = entry.get_final_energies()\n",
    "    if len(final_energies) != NUM_FRAMES:\n",
    "        print(f\"Molecule {idx:3} ({MOLECULES[idx].get_molecular_formula()}) has {len(final_energies)} frames\")\n",
    "    else:\n",
    "        GOOD_MOLECULES.append(MOLECULES[idx])\n",
    "        GOOD_ENTRIES.append(ENTRIES[idx])"
   ]
  },
  {
   "cell_type": "code",
   "execution_count": 17,
   "metadata": {},
   "outputs": [
    {
     "name": "stdout",
     "output_type": "stream",
     "text": [
      "There are 292 good molecules.\n"
     ]
    }
   ],
   "source": [
    "print(f\"There are {len(GOOD_MOLECULES)} good molecules.\")\n"
   ]
  },
  {
   "cell_type": "markdown",
   "metadata": {},
   "source": [
    "## Visualization\n",
    "\n",
    "Get a better idea of what the data looks like using PCA."
   ]
  },
  {
   "cell_type": "code",
   "execution_count": 21,
   "metadata": {},
   "outputs": [
    {
     "data": {
      "image/png": "[encoded data removed]",
      "text/plain": [
       "<Figure size 432x288 with 1 Axes>"
      ]
     },
     "metadata": {
      "needs_background": "light"
     },
     "output_type": "display_data"
    }
   ],
   "source": [
    "# Create vectors of the energies\n",
    "NUM_FRAMES = 21\n",
    "ENERGIES = np.zeros(shape=(len(GOOD_ENTRIES), NUM_FRAMES))\n",
    "\n",
    "for idx, entry in enumerate(GOOD_ENTRIES):\n",
    "    final_energies = entry.get_final_energies()\n",
    "    for frame_idx in range(NUM_FRAMES):\n",
    "        ENERGIES[idx][frame_idx] = final_energies[(frame_idx,)]\n",
    "    # Normalize the energies by subtracting the minimum energy\n",
    "    min_energy = np.min(ENERGIES[idx])\n",
    "    ENERGIES[idx] -= min_energy\n",
    "\n",
    "# Apply PCA to reduce to 2d for plotting\n",
    "pca_2d = decomposition.PCA(n_components=2)\n",
    "ENERGIES_2D = pca_2d.fit_transform(ENERGIES)\n",
    "plt.scatter(ENERGIES_2D[:,0], ENERGIES_2D[:,1]);"
   ]
  }
 ],
 "metadata": {
  "kernelspec": {
   "display_name": "Python 3",
   "language": "python",
   "name": "python3"
  },
  "language_info": {
   "codemirror_mode": {
    "name": "ipython",
    "version": 3
   },
   "file_extension": ".py",
   "mimetype": "text/x-python",
   "name": "python",
   "nbconvert_exporter": "python",
   "pygments_lexer": "ipython3",
   "version": "3.7.3"
  }
 },
 "nbformat": 4,
 "nbformat_minor": 4
}
